{
 "cells": [
  {
   "cell_type": "markdown",
   "metadata": {},
   "source": [
    "Final Stock Report Generator by Jason Yan, James Attard, Grace Shen, Cathy Zou, Alex Kartel"
   ]
  },
  {
   "cell_type": "markdown",
   "metadata": {},
   "source": [
    "1. import modules"
   ]
  },
  {
   "cell_type": "code",
   "execution_count": 3,
   "metadata": {},
   "outputs": [],
   "source": [
    "import yfinance as yf\n",
    "import matplotlib.pyplot as plt\n",
    "from fpdf import FPDF\n",
    "import os\n",
    "import pandas as pd\n",
    "import stock_input\n"
   ]
  },
  {
   "cell_type": "code",
   "execution_count": 4,
   "metadata": {},
   "outputs": [
    {
     "name": "stdout",
     "output_type": "stream",
     "text": [
      "CBA.AX\n"
     ]
    }
   ],
   "source": [
    "stock_code_input = stock_input.get_stock_code().upper()\n",
    "print(stock_code_input)\n"
   ]
  },
  {
   "cell_type": "markdown",
   "metadata": {},
   "source": [
    "2. Retrieve financial data from functions made from James"
   ]
  },
  {
   "cell_type": "code",
   "execution_count": 5,
   "metadata": {},
   "outputs": [],
   "source": [
    "import ratios_james\n",
    "\n",
    "stock_financial_data = ratios_james.stock_financials(stock_code_input)"
   ]
  },
  {
   "cell_type": "markdown",
   "metadata": {},
   "source": [
    "Import commentary "
   ]
  },
  {
   "cell_type": "code",
   "execution_count": 6,
   "metadata": {},
   "outputs": [],
   "source": [
    "commentary = \"\"\n",
    "with open(\"example_files/commentary_CBA.txt\", \"r\") as file:\n",
    "    commentary = file.read()\n"
   ]
  },
  {
   "cell_type": "markdown",
   "metadata": {},
   "source": [
    "Import DCF"
   ]
  },
  {
   "cell_type": "code",
   "execution_count": 7,
   "metadata": {},
   "outputs": [],
   "source": [
    "import extract_dcf_excel_alex\n",
    "dcf = extract_dcf_excel_alex.get_dcf_extract()\n",
    "# pandas dataframe"
   ]
  },
  {
   "cell_type": "markdown",
   "metadata": {},
   "source": [
    "Import price history chart"
   ]
  },
  {
   "cell_type": "code",
   "execution_count": 8,
   "metadata": {},
   "outputs": [],
   "source": [
    "import stock_price_chart_grace\n",
    "stock_price_chart_grace.stock_price_chart()"
   ]
  },
  {
   "cell_type": "code",
   "execution_count": 9,
   "metadata": {},
   "outputs": [
    {
     "name": "stdout",
     "output_type": "stream",
     "text": [
      "Image URL: https://upload.wikimedia.org/wikipedia/en/thumb/9/9c/Commonwealth_Bank_logo_2020.svg/120px-Commonwealth_Bank_logo_2020.svg.png\n",
      "Image saved as commbank_logo.png\n",
      "Second Table:\n",
      "                        Order                        Name  \\\n",
      "0                           1             Sir John Garvan   \n",
      "1                           2       Sir Robert Gibson GBE   \n",
      "2                           3     Sir Claude Reading KCMG   \n",
      "3  Board abolished, 1945–1960  Board abolished, 1945–1960   \n",
      "4                           4     Sir Warren McDonald KBE   \n",
      "\n",
      "                   Term start                    Term end  \\\n",
      "0             13 October 1924              30 August 1926   \n",
      "1           13 September 1926              1 January 1934   \n",
      "2              4 January 1934              21 August 1945   \n",
      "3  Board abolished, 1945–1960  Board abolished, 1945–1960   \n",
      "4              1 January 1960            12 November 1965   \n",
      "\n",
      "               Time in office                       Notes  \n",
      "0            1 year, 321 days            [15][17][73][74]  \n",
      "1           7 years, 110 days                [75][76][77]  \n",
      "2          11 years, 229 days    [78][79][80][81][82][83]  \n",
      "3  Board abolished, 1945–1960  Board abolished, 1945–1960  \n",
      "4           5 years, 315 days                    [84][85]  \n",
      "Second table saved as commbank_table.csv\n",
      "Second table saved as commbank_table.xlsx\n"
     ]
    }
   ],
   "source": [
    "import image_cathy\n",
    "# this creates commbank_logo.jpg in current directory\n",
    "import table_cathy\n",
    "# this creates commbank_table.csv in current directory"
   ]
  },
  {
   "cell_type": "markdown",
   "metadata": {},
   "source": [
    "Placing Everything together using fpdf"
   ]
  },
  {
   "cell_type": "code",
   "execution_count": 15,
   "metadata": {},
   "outputs": [
    {
     "name": "stdout",
     "output_type": "stream",
     "text": [
      "PDF report generated: CBA.pdf\n"
     ]
    }
   ],
   "source": [
    "from fpdf import FPDF\n",
    "import pandas as pd\n",
    "import matplotlib.pyplot as plt\n",
    "import unicodedata\n",
    "\n",
    "def clean_text(text):\n",
    "    # Replace common problematic characters first\n",
    "    text = text.replace('\\u2014', '-')  # em dash → hyphen\n",
    "    text = text.replace('\\u2013', '-')  # en dash → hyphen\n",
    "    text = text.replace('\\u2018', \"'\").replace('\\u2019', \"'\")  # curly quotes → straight\n",
    "    text = text.replace('\\u201c', '\"').replace('\\u201d', '\"')\n",
    "\n",
    "    # Normalize to ASCII and remove any remaining non-latin1 characters\n",
    "    return unicodedata.normalize('NFKD', text).encode('latin-1', 'ignore').decode('latin-1')\n",
    "chart_path = \"price_chart.png\"\n",
    "\n",
    "\n",
    "\n",
    "\n",
    "# === PDF Class ===\n",
    "class EquityReportPDF(FPDF):\n",
    "    def header(self):\n",
    "        self.image(\"commbank_logo.png\", x=160, y=10, w=35)\n",
    "        self.set_font(\"Helvetica\", \"B\", 16)\n",
    "        self.set_text_color(0, 51, 153)\n",
    "        self.cell(0, 10, \"JAGC\", ln=1)\n",
    "        self.set_font(\"Helvetica\", \"\", 12)\n",
    "        self.set_text_color(0, 0, 0)\n",
    "\n",
    "    def add_title(self, company):\n",
    "        self.set_font(\"Helvetica\", \"B\", 20)\n",
    "        self.set_text_color(0, 102, 204)\n",
    "        self.ln(5)\n",
    "        self.cell(0, 10, company, ln=1)\n",
    "        self.set_font(\"Helvetica\", \"\", 12)\n",
    "        self.set_text_color(0)\n",
    "        self.ln(3)\n",
    "\n",
    "    def add_recommendation(self, text):\n",
    "        self.set_font(\"Helvetica\", \"B\", 18)\n",
    "        self.set_text_color(0, 100, 0)\n",
    "\n",
    "        self.multi_cell(0, 6, text)\n",
    "        self.ln(2)\n",
    "\n",
    "\n",
    "    def add_summary(self, text):\n",
    "        self.set_font(\"Helvetica\", \"\", 11)\n",
    "        self.set_text_color(0, 0, 0)\n",
    "\n",
    "        self.multi_cell(0, 6, text)\n",
    "        self.ln(2)\n",
    "\n",
    "    def add_financials(self, title, stock_financial_data):\n",
    "        self.set_font(\"Helvetica\", \"B\", 11)\n",
    "        self.cell(0, 8, title, ln=1)\n",
    "        self.set_text_color(0, 0, 0)\n",
    "\n",
    "        self.set_font(\"Helvetica\", \"\", 10)\n",
    "        for key, val in stock_financial_data.items():\n",
    "            self.cell(60, 8, f\"{key}:\", border=0)\n",
    "            self.cell(0, 8, str(val), border=0, ln=1)\n",
    "        self.ln(2)\n",
    "\n",
    "\n",
    "    \n",
    "\n",
    "    def add_table(self, title, df):\n",
    "        self.set_font(\"Helvetica\", \"B\", 11)\n",
    "        self.cell(0, 8, title, ln=1)\n",
    "        self.set_font(\"Helvetica\", \"B\", 9)\n",
    "\n",
    "        col_widths = [self.get_string_width(col) + 10 for col in df.columns]\n",
    "        max_width = max(col_widths)\n",
    "        col_widths = [max_width] * len(df.columns)\n",
    "\n",
    "        # Header\n",
    "        for i, col in enumerate(df.columns):\n",
    "            self.cell(col_widths[i], 8, str(col), border=1)\n",
    "        self.ln()\n",
    "\n",
    "        # Rows\n",
    "        self.set_font(\"Helvetica\", \"\", 9)\n",
    "        for _, row in df.iterrows():\n",
    "            for i, val in enumerate(row):\n",
    "                self.cell(col_widths[i], 8, str(val), border=1)\n",
    "            self.ln()\n",
    "\n",
    "    def add_image(self, image_path, title=None):\n",
    "        if title:\n",
    "            self.set_font(\"Helvetica\", \"B\", 11)\n",
    "            self.cell(0, 8, title, ln=1)\n",
    "        self.image(image_path, w=180)\n",
    "        self.ln(5)\n",
    "\n",
    "# === Generate PDF ===\n",
    "pdf = EquityReportPDF()\n",
    "pdf.add_page()\n",
    "pdf.add_title(\"Commonwealth Bank of Australia (CBA)\")\n",
    "pdf.add_recommendation(\"BUY\")\n",
    "pdf.add_financials(\"Key Financials Summary\", stock_financial_data)\n",
    "\n",
    "pdf.add_summary(clean_text(commentary))\n",
    "pdf.add_image(chart_path, title=\"CBA Historical Price\")\n",
    "pdf.add_table(\"Discounted Cash Flow (DCF) Table\", dcf)\n",
    "# pdf.add_table(\"Chairman of the Board History\", dcf)\n",
    "df_chairs = pd.read_csv(\"commbank_table.csv\")\n",
    "\n",
    "df_chairs = df_chairs.map(lambda x: clean_text(str(x)))\n",
    "\n",
    "pdf.add_table(\"Chairpersons of Commonwealth Bank\", df_chairs)\n",
    "\n",
    "output_path = \"CBA.pdf\"\n",
    "pdf.output(output_path)\n",
    "print(f\"PDF report generated: {output_path}\")\n"
   ]
  }
 ],
 "metadata": {
  "kernelspec": {
   "display_name": "Python 3",
   "language": "python",
   "name": "python3"
  },
  "language_info": {
   "codemirror_mode": {
    "name": "ipython",
    "version": 3
   },
   "file_extension": ".py",
   "mimetype": "text/x-python",
   "name": "python",
   "nbconvert_exporter": "python",
   "pygments_lexer": "ipython3",
   "version": "3.12.1"
  }
 },
 "nbformat": 4,
 "nbformat_minor": 2
}
